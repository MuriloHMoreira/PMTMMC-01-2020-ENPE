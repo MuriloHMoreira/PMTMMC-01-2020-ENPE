{
 "cells": [
  {
   "cell_type": "code",
   "execution_count": 489,
   "metadata": {
    "ExecuteTime": {
     "end_time": "2020-08-21T18:39:08.835400Z",
     "start_time": "2020-08-21T18:39:08.743967Z"
    },
    "cellView": "form",
    "colab": {},
    "colab_type": "code",
    "hide_input": true
   },
   "outputs": [],
   "source": [
    "#@title \n",
    "import numpy as np\n",
    "import matplotlib as mpl\n",
    "import matplotlib.pyplot as plt\n",
    "from ipywidgets import interactive, widgets\n",
    "from matplotlib.ticker import FormatStrFormatter\n",
    "\n",
    "\n",
    "%matplotlib inline"
   ]
  },
  {
   "cell_type": "code",
   "execution_count": 497,
   "metadata": {
    "ExecuteTime": {
     "end_time": "2020-08-21T18:45:34.378342Z",
     "start_time": "2020-08-21T18:45:34.343665Z"
    },
    "cellView": "form",
    "colab": {},
    "colab_type": "code",
    "hide_input": true
   },
   "outputs": [
    {
     "data": {
      "text/html": [
       "<script>$(\"div.input\").hide()</script>"
      ],
      "text/plain": [
       "<IPython.core.display.HTML object>"
      ]
     },
     "metadata": {},
     "output_type": "display_data"
    },
    {
     "data": {
      "application/vnd.jupyter.widget-view+json": {
       "model_id": "bcf067e79cc942c9a84b7d1394729a4e",
       "version_major": 2,
       "version_minor": 0
      },
      "text/plain": [
       "ToggleButton(value=False, description='Show code')"
      ]
     },
     "metadata": {},
     "output_type": "display_data"
    },
    {
     "data": {
      "text/html": [
       "<script>$(\"div.input\").show()</script>"
      ],
      "text/plain": [
       "<IPython.core.display.HTML object>"
      ]
     },
     "metadata": {},
     "output_type": "display_data"
    },
    {
     "data": {
      "text/html": [
       "<script>$(\"div.input\").hide()</script>"
      ],
      "text/plain": [
       "<IPython.core.display.HTML object>"
      ]
     },
     "metadata": {},
     "output_type": "display_data"
    },
    {
     "data": {
      "text/html": [
       "<script>$(\"div.input\").show()</script>"
      ],
      "text/plain": [
       "<IPython.core.display.HTML object>"
      ]
     },
     "metadata": {},
     "output_type": "display_data"
    },
    {
     "data": {
      "text/html": [
       "<script>$(\"div.input\").hide()</script>"
      ],
      "text/plain": [
       "<IPython.core.display.HTML object>"
      ]
     },
     "metadata": {},
     "output_type": "display_data"
    },
    {
     "data": {
      "text/html": [
       "<script>$(\"div.input\").show()</script>"
      ],
      "text/plain": [
       "<IPython.core.display.HTML object>"
      ]
     },
     "metadata": {},
     "output_type": "display_data"
    },
    {
     "data": {
      "text/html": [
       "<script>$(\"div.input\").hide()</script>"
      ],
      "text/plain": [
       "<IPython.core.display.HTML object>"
      ]
     },
     "metadata": {},
     "output_type": "display_data"
    },
    {
     "data": {
      "text/html": [
       "<script>$(\"div.input\").show()</script>"
      ],
      "text/plain": [
       "<IPython.core.display.HTML object>"
      ]
     },
     "metadata": {},
     "output_type": "display_data"
    }
   ],
   "source": [
    "#@title \n",
    "import ipywidgets as widgets\n",
    "from IPython.display import display, HTML\n",
    "\n",
    "javascript_functions = {False: \"hide()\", True: \"show()\"}\n",
    "button_descriptions  = {False: \"Show code\", True: \"Hide code\"}\n",
    "\n",
    "\n",
    "def toggle_code(state):\n",
    "\n",
    "    \"\"\"\n",
    "    Toggles the JavaScript show()/hide() function on the div.input element.\n",
    "    \"\"\"\n",
    "\n",
    "    output_string = \"<script>$(\\\"div.input\\\").{}</script>\"\n",
    "    output_args   = (javascript_functions[state],)\n",
    "    output        = output_string.format(*output_args)\n",
    "\n",
    "    display(HTML(output))\n",
    "\n",
    "\n",
    "def button_action(value):\n",
    "\n",
    "    \"\"\"\n",
    "    Calls the toggle_code function and updates the button description.\n",
    "    \"\"\"\n",
    "\n",
    "    state = value.new\n",
    "\n",
    "    toggle_code(state)\n",
    "\n",
    "    value.owner.description = button_descriptions[state]\n",
    "\n",
    "\n",
    "state = False\n",
    "toggle_code(state)\n",
    "\n",
    "button = widgets.ToggleButton(state, description = button_descriptions[state])\n",
    "button.observe(button_action, \"value\")\n",
    "\n",
    "display(button)"
   ]
  },
  {
   "cell_type": "markdown",
   "metadata": {},
   "source": [
    "# Aula"
   ]
  },
  {
   "cell_type": "markdown",
   "metadata": {},
   "source": [
    "## Resistência Mecânica dos Materiais"
   ]
  },
  {
   "cell_type": "markdown",
   "metadata": {},
   "source": [
    "<span class=\"img_container center\" style=\"display: block;\"> <img alt=\"test\" src=\"https://www.e-education.psu.edu/matse81/sites/www.e-education.psu.edu.matse81/files/Two_brittle_stress_strain.png\" style=\"display:block; margin-left: auto; margin-right: auto;\" title=\"caption\" /> <span class=\"img_caption\" style=\"display: block; text-align: center;\"><b>Figura 1:</b> Ensaio de Flexão de Alumina e um vidro sodalime.</span> </span>"
   ]
  },
  {
   "cell_type": "code",
   "execution_count": 150,
   "metadata": {
    "ExecuteTime": {
     "end_time": "2020-08-19T10:42:58.751382Z",
     "start_time": "2020-08-19T10:42:58.744054Z"
    },
    "cellView": "form",
    "colab": {},
    "colab_type": "code",
    "hide_input": true
   },
   "outputs": [],
   "source": [
    "#@title \n",
    "def run_test(epsilon_i, E, sigma_f):\n",
    "    if epsilon_i * E < sigma_f:\n",
    "        epsilons = np.linspace(0, epsilon_i, 1000)\n",
    "        sigmas = E*epsilons\n",
    "    else:\n",
    "        epsilons = np.linspace(0, epsilon_i, 1000)\n",
    "        sigmas = E*epsilons\n",
    "        sigmas[sigmas>sigma_f] = np.zeros(sigmas[sigmas>sigma_f].shape[0])\n",
    "    return epsilons, sigmas"
   ]
  },
  {
   "cell_type": "code",
   "execution_count": 416,
   "metadata": {
    "ExecuteTime": {
     "end_time": "2020-08-19T18:03:10.354184Z",
     "start_time": "2020-08-19T18:03:10.134983Z"
    },
    "cellView": "form",
    "colab": {},
    "colab_type": "code",
    "hide_input": true
   },
   "outputs": [
    {
     "data": {
      "application/vnd.jupyter.widget-view+json": {
       "model_id": "77fdbdff49a64474bca5be95b019ddcb",
       "version_major": 2,
       "version_minor": 0
      },
      "text/plain": [
       "interactive(children=(FloatSlider(value=0.0, description='$\\\\epsilon$', max=0.001, readout_format='.2e', step=…"
      ]
     },
     "metadata": {},
     "output_type": "display_data"
    }
   ],
   "source": [
    "#@title \n",
    "m=3\n",
    "E=400e9\n",
    "sigma_0=220e6\n",
    "sigma_f_1 = 220e6  # np.random.weibull(m, 1)*sigma_0\n",
    "\n",
    "def f(epsilon_i):\n",
    "    epsilons_1, sigmas_1 = run_test(epsilon_i, E, sigma_f_1)\n",
    "    epsilon_max = sigma_f_1/E\n",
    "    bar = np.array([0.09, 0.1, 0.11])\n",
    "    plt.text(0.0925, 215, 'Amostra')\n",
    "    plt.text(bar[0]*(1-epsilon_i*100)*0.9, 205, 'F')\n",
    "    plt.text(bar[2]*(1+epsilon_i*100)*1.06, 205, 'F')\n",
    "\n",
    "    plt.arrow(bar[0]*(1-epsilon_i*100), 200, -0.01, 0, head_width=10, head_length=0.005,\n",
    "              fc='k', ec='k', zorder=4)\n",
    "    plt.arrow(bar[2]*(1+epsilon_i*100), 200, 0.01, 0, head_width=10, head_length=0.005,\n",
    "              fc='k', ec='k', zorder=4)\n",
    "    if epsilon_i < epsilon_max:\n",
    "        plt.plot([bar[0]*(1-epsilon_i*100), bar[1],\n",
    "                  bar[2]*(1+epsilon_i*100)], [200, 200, 200], lw=10, c='k', label='Amostra')\n",
    "    if epsilon_i >= epsilon_max:\n",
    "        plt.plot([bar[0]*(1-epsilon_i*100),\n",
    "                  bar[1]*(1-(epsilon_i-epsilon_max)*100)-0.0021], [200, 200], lw=10, c='k')\n",
    "        plt.plot([bar[1]*(1+(epsilon_i-epsilon_max)*100)+0.0021,\n",
    "                  bar[2]*(1+epsilon_i*100)], [200, 200], lw=10, c='k', label='Amostra')\n",
    "    plt.plot(epsilons_1*100, sigmas_1*1e-6, c='Navy')\n",
    "    plt.ylim(0, 300)\n",
    "    plt.xlim(0, 0.14e-2*100)\n",
    "    plt.ylabel('Tensão, $\\sigma$ [MPa]')\n",
    "    plt.xlabel('Deformação, $\\epsilon$ [%]')\n",
    "    plt.grid(lw=0.25)\n",
    "#     plt.legend(borderpad=1.2)\n",
    "    plt.show()\n",
    "\n",
    "int_plot = interactive(f,\n",
    "#                        epsilon_i=(0, 1e-4, 0.1e-5),\n",
    "                         epsilon_i=widgets.FloatSlider(value=0,\n",
    "                                                       min=0,\n",
    "                                                       max=1e-3,\n",
    "                                                       step=1e-5,\n",
    "                                                       description='$\\epsilon$',\n",
    "                                                       readout_format='.2e',\n",
    "                                                       orientation='horizontal')\n",
    "                      )\n",
    "output = int_plot.children[-1]\n",
    "output.layout.height = '350px'\n",
    "int_plot"
   ]
  },
  {
   "cell_type": "markdown",
   "metadata": {},
   "source": [
    "## Distribuições Estatísticas"
   ]
  },
  {
   "attachments": {},
   "cell_type": "markdown",
   "metadata": {},
   "source": [
    "- Teoria das Probabilidades\n",
    "- Variáveis Contínuas e Categóricas\n",
    "- Funções de Densidade de Probabilidade (FDP) e Funções de Distribuição Acumuladas (FDA)\n",
    "- Exemplos de modelos de distribuição de variáveis contínuas\n",
    "    - Distribuição Normal\n",
    "     <p float=\"center\">\n",
    "  <img src=\"https://upload.wikimedia.org/wikipedia/commons/thumb/7/74/Normal_Distribution_PDF.svg/800px-Normal_Distribution_PDF.svg.png?1597935607935\" width=\"450\" />\n",
    "     </p>\n",
    "    - Distribuição Logística\n",
    "    <p float=\"center\">\n",
    "  <img src=\"https://upload.wikimedia.org/wikipedia/commons/thumb/6/66/Logisticpdfunction.svg/640px-Logisticpdfunction.svg.png?1597935798039\" width=\"450\" />\n",
    "     </p>\n",
    "    - Distribuição de Pareto\n",
    "    <p float=\"center\">\n",
    "  <img src=\"https://upload.wikimedia.org/wikipedia/commons/thumb/1/11/Probability_density_function_of_Pareto_distribution.svg/640px-Probability_density_function_of_Pareto_distribution.svg.png?1597935618315\" width=\"450\" />\n",
    "     </p>\n",
    "\n",
    "    - Distribuição de Weibull\n",
    "    <p float=\"center\">\n",
    "  <img src=\"https://upload.wikimedia.org/wikipedia/commons/thumb/5/58/Weibull_PDF.svg/640px-Weibull_PDF.svg.png?1597935868233\" width=\"450\" />\n",
    "     </p>\n",
    "   \n",
    "- Efeitos dos Parâmetros na distribuição de Weibull\n",
    "- Weibull Plot"
   ]
  },
  {
   "cell_type": "markdown",
   "metadata": {},
   "source": [
    "### A Distribuição de Weibull"
   ]
  },
  {
   "cell_type": "code",
   "execution_count": 348,
   "metadata": {
    "ExecuteTime": {
     "end_time": "2020-08-19T17:27:08.585957Z",
     "start_time": "2020-08-19T17:27:08.333636Z"
    },
    "cellView": "form",
    "colab": {},
    "colab_type": "code",
    "hide_input": true
   },
   "outputs": [
    {
     "data": {
      "image/png": "[encoded data removed]",
      "text/plain": [
       "<Figure size 432x288 with 2 Axes>"
      ]
     },
     "metadata": {
      "needs_background": "light"
     },
     "output_type": "display_data"
    }
   ],
   "source": [
    "#@title \n",
    "sigma = np.linspace(0,50, 1000)\n",
    "m = 15\n",
    "sigma_0 = 20\n",
    "weibull_pdf = lambda sigma, m, sigma_0: (m/sigma_0)*(sigma/sigma_0)**(m-1)*np.exp(-(sigma/sigma_0)**m)\n",
    "weibull_cdf = lambda sigma, m, sigma_0: 1-np.exp(-(sigma/sigma_0)**m)\n",
    "\n",
    "ax1 = plt.subplot()\n",
    "ax2 = ax1.twinx()\n",
    "\n",
    "ax1.plot(sigma, weibull_pdf(sigma, 50, 20), c='Navy', label='$\\sigma_0$ =20,  m = 50')\n",
    "ax2.plot(sigma, weibull_cdf(sigma, 50, 20), c='Navy', lw=1, ls='--')\n",
    "ax1.plot(sigma, weibull_pdf(sigma, 5, 20), c='red', label='$\\sigma_0$ =20, m = 5')\n",
    "ax2.plot(sigma, weibull_cdf(sigma, 5, 20), c='red', lw=1, ls='--')\n",
    "\n",
    "ax1.legend(fontsize=14)\n",
    "\n",
    "ax1.set_ylabel('Probability Density Function')\n",
    "ax2.set_ylabel('Cumulative Distribution Function')\n",
    "for ax in [ax1, ax2]:\n",
    "    ax.set_xlim(0,50)\n",
    "    ax.set_ylim(0,1.05)\n",
    "\n",
    "ax1.grid()\n",
    "\n",
    "plt.show()\n",
    "#"
   ]
  },
  {
   "cell_type": "markdown",
   "metadata": {},
   "source": [
    "### Efeito dos Parâmetros na Distribuição"
   ]
  },
  {
   "cell_type": "code",
   "execution_count": 490,
   "metadata": {
    "ExecuteTime": {
     "end_time": "2020-08-21T18:39:31.166224Z",
     "start_time": "2020-08-21T18:39:30.264654Z"
    },
    "cellView": "form",
    "colab": {},
    "colab_type": "code",
    "hide_input": true
   },
   "outputs": [
    {
     "data": {
      "application/vnd.jupyter.widget-view+json": {
       "model_id": "92774a9f29b740f2acb4f2a2f1c5c3ed",
       "version_major": 2,
       "version_minor": 0
      },
      "text/plain": [
       "interactive(children=(FloatSlider(value=2.0, description='$m$', max=200.0, min=2.0, step=5.0), FloatSlider(val…"
      ]
     },
     "metadata": {},
     "output_type": "display_data"
    }
   ],
   "source": [
    "#@title \n",
    "\n",
    "m = 15\n",
    "sigma_0 = 20\n",
    "weibull_pdf = lambda sigma, m, sigma_0: (m/sigma_0)*(sigma/sigma_0)**(m-1)*np.exp(-(sigma/sigma_0)**m)\n",
    "weibull_cdf = lambda sigma, m, sigma_0: 1-np.exp(-(sigma/sigma_0)**m)\n",
    "\n",
    "def weibull_view(m, sigma_0):\n",
    "    sigmas = np.linspace(0,50, 1000)\n",
    "    fig, axs = plt.subplots(2, 1, sharex=True, figsize=(4, 6))\n",
    "    axs[0].plot(sigmas, weibull_pdf(sigmas, m, sigma_0), c='Navy', label=f'$\\sigma_0$ = {sigma_0},  m = {m}')\n",
    "    axs[0].set_xlim(0, 50)\n",
    "    axs[0].set_ylim(0, 5)\n",
    "    axs[0].set_xlabel('Tensão, $\\sigma$ [MPa]')\n",
    "    axs[0].set_ylabel('Função Densidade de Probabilidade (FDP)')\n",
    "    axs[1].plot(sigmas, weibull_cdf(sigmas, m, sigma_0), c='Navy', label=f'$\\sigma_0$ = {sigma_0},  m = {m}')\n",
    "    axs[1].set_xlim(0, 50)\n",
    "    axs[1].set_ylim(0, 1.25)\n",
    "    axs[1].set_xlabel('Tensão, $\\sigma$ [MPa]')\n",
    "    axs[1].set_ylabel('Função de Distribuição Acumulada (FDA)')\n",
    "    plt.tight_layout()\n",
    "    \n",
    "    for ax in axs:\n",
    "        ax.yaxis.set_major_formatter(FormatStrFormatter('%.2f'))\n",
    "        ax.grid()\n",
    "        ax.legend()\n",
    "    plt.show()\n",
    "\n",
    "int_plot = interactive(weibull_view,\n",
    "                       sigma_0=widgets.FloatSlider(value=5,\n",
    "                                                       min=5,\n",
    "                                                       max=45,\n",
    "                                                       step=1,\n",
    "                                                       description='$\\sigma_0$',\n",
    "                                                       readout_format='.2f'),\n",
    "                       m=widgets.FloatSlider(value=2,\n",
    "                                                       min=2,\n",
    "                                                       max=200,\n",
    "                                                       step=5,\n",
    "                                                       description='$m$',\n",
    "                                                       readout_format='.2f')\n",
    "                      )\n",
    "output = int_plot.children[-1]\n",
    "output.layout.height = '450px'\n",
    "int_plot"
   ]
  },
  {
   "cell_type": "code",
   "execution_count": null,
   "metadata": {
    "cellView": "form",
    "colab": {},
    "colab_type": "code",
    "hide_input": true
   },
   "outputs": [],
   "source": [
    "#@title \n",
    "from mpl_toolkits.axisartist.axislines import SubplotZero\n",
    "\n",
    "fig = plt.figure()\n",
    "ax = SubplotZero(fig, 111)\n",
    "fig.add_subplot(ax)\n",
    "\n",
    "for direction in [\"xzero\", \"yzero\"]:\n",
    "    # adds arrows at the ends of each axis\n",
    "    ax.axis[direction].set_axisline_style(\"-|>\")\n",
    "\n",
    "    # adds X and Y-axis from the origin\n",
    "    ax.axis[direction].set_visible(True)\n",
    "\n",
    "for direction in [\"left\", \"right\", \"bottom\", \"top\"]:\n",
    "    # hides borders\n",
    "    ax.axis[direction].set_visible(False)"
   ]
  },
  {
   "cell_type": "code",
   "execution_count": 488,
   "metadata": {
    "ExecuteTime": {
     "end_time": "2020-08-21T11:29:11.779093Z",
     "start_time": "2020-08-21T11:29:11.528468Z"
    },
    "cellView": "form",
    "colab": {},
    "colab_type": "code",
    "hide_input": true
   },
   "outputs": [
    {
     "data": {
      "image/png": "[encoded data removed]",
      "text/plain": [
       "<Figure size 432x288 with 1 Axes>"
      ]
     },
     "metadata": {
      "needs_background": "light"
     },
     "output_type": "display_data"
    }
   ],
   "source": [
    "#@title \n",
    "plt.plot(sigmas_f_m5*1e-6, S_m5, '-o', c='navy', label='m = 5')\n",
    "plt.plot(sigmas_f_m15*1e-6, S_m15, '-o', c='coral', label='m = 15')\n",
    "\n",
    "plt.axhline(0, c='k', zorder=0, lw=1)\n",
    "plt.axvline(0, c='k', zorder=0, lw=1)\n",
    "plt.ylabel(r'$S$', fontsize=15)\n",
    "plt.xlabel(r'$\\sigma}{\\sigma_0}}$', fontsize=15)\n",
    "\n",
    "ax = plt.gca()\n",
    "for side in ['top','right','bottom','left']:\n",
    "    ax.spines[side].set_visible(False)\n",
    "ax.tick_params(axis='both',which='both',labelbottom=True,bottom=False,left=False)\n",
    "plt.legend()\n",
    "plt.show()"
   ]
  },
  {
   "cell_type": "code",
   "execution_count": 465,
   "metadata": {
    "ExecuteTime": {
     "end_time": "2020-08-21T11:17:09.674256Z",
     "start_time": "2020-08-21T11:17:09.361065Z"
    },
    "cellView": "form",
    "colab": {},
    "colab_type": "code",
    "hide_input": true
   },
   "outputs": [
    {
     "data": {
      "image/png": "[encoded data removed]",
      "text/plain": [
       "<Figure size 432x288 with 1 Axes>"
      ]
     },
     "metadata": {
      "needs_background": "light"
     },
     "output_type": "display_data"
    }
   ],
   "source": [
    "#@title \n",
    "weibull_pdf = lambda sigma, m, sigma_0: np.exp(-(sigma/sigma_0)**m)\n",
    "sigma_0 = 20e6\n",
    "sigmas_f_m5 = np.sort(np.random.weibull(5, 30)*sigma_0)\n",
    "sigmas_f_m15 = np.sort(np.random.weibull(15, 30)*sigma_0)\n",
    "\n",
    "S_m5 = weibull_pdf(sigmas_f_m5, 5, sigma_0)\n",
    "S_m15 = weibull_pdf(sigmas_f_m15, 15, sigma_0)\n",
    "\n",
    "plt.scatter(np.log(sigmas_f_m5 / sigma_0), np.log(np.log(1 / S_m5)), c='navy', label='m = 5')\n",
    "plt.scatter(np.log(sigmas_f_m15 / sigma_0), np.log(np.log(1 / S_m15)), c='coral', label='m = 15')\n",
    "\n",
    "plt.axhline(0, c='k', zorder=0, lw=1)\n",
    "plt.axvline(0, c='k', zorder=0, lw=1)\n",
    "plt.ylabel(r'$\\log{\\log{\\ \\frac{1}{S}}}$', fontsize=15)\n",
    "plt.xlabel(r'$\\log{\\ \\frac{\\sigma}{\\sigma_0}}$', fontsize=15)\n",
    "\n",
    "ax = plt.gca()\n",
    "for side in ['top','right','bottom','left']:\n",
    "    ax.spines[side].set_visible(False)\n",
    "ax.tick_params(axis='both',which='both',labelbottom=True,bottom=False,left=False)\n",
    "plt.legend()\n",
    "plt.show()"
   ]
  },
  {
   "cell_type": "markdown",
   "metadata": {},
   "source": [
    "# Exercícios Simulando Ensaios Mecânicos"
   ]
  },
  {
   "cell_type": "code",
   "execution_count": 304,
   "metadata": {
    "ExecuteTime": {
     "end_time": "2020-08-19T14:42:39.653045Z",
     "start_time": "2020-08-19T14:42:39.597195Z"
    },
    "cellView": "form",
    "colab": {},
    "colab_type": "code",
    "hide_input": true
   },
   "outputs": [],
   "source": [
    "#@title \n",
    "m_1 = 3\n",
    "E = 400e9\n",
    "sigma_0 = 20e6\n",
    "sigma_f_1_1 = np.random.weibull(m_1, 1)*sigma_0\n",
    "sigma_f_1_2 = np.random.weibull(m_1, 1)*sigma_0\n",
    "sigma_f_1_3 = np.random.weibull(m_1, 1)*sigma_0\n",
    "sigma_f_1_4 = np.random.weibull(m_1, 1)*sigma_0\n",
    "sigma_f_1_5 = np.random.weibull(m_1, 1)*sigma_0\n",
    "\n",
    "def f_1(epsilon_i_per):\n",
    "    epsilon_i = epsilon_i_per / 100\n",
    "    epsilons_1, sigmas_1 = run_test(epsilon_i, E, sigma_f_1_1)\n",
    "    epsilons_2, sigmas_2 = run_test(epsilon_i, E, sigma_f_1_2)\n",
    "    epsilons_3, sigmas_3 = run_test(epsilon_i, E, sigma_f_1_3)\n",
    "    epsilons_4, sigmas_4 = run_test(epsilon_i, E, sigma_f_1_4)\n",
    "    epsilons_5, sigmas_5 = run_test(epsilon_i, E, sigma_f_1_5)\n",
    "\n",
    "    plt.plot(epsilons_1*100, sigmas_1*1e-6, c='Navy', label='Amostra 1')\n",
    "    plt.plot(epsilons_2*100, sigmas_2*1e-6, c='blue', label='Amostra 2')\n",
    "    plt.plot(epsilons_3*100, sigmas_3*1e-6, c='orange', label='Amostra 3')\n",
    "    plt.plot(epsilons_4*100, sigmas_4*1e-6, c='crimson', label='Amostra 4')\n",
    "    plt.plot(epsilons_5*100, sigmas_5*1e-6, c='olive', label='Amostra 5')\n",
    "    if epsilon_i * E >= sigma_f_1_1 and epsilon_i * E >= sigma_f_1_2 and epsilon_i * E >= sigma_f_1_3 and epsilon_i * E >= sigma_f_1_4 and epsilon_i * E >= sigma_f_1_5:\n",
    "        ytable = plt.table(cellText=[['Amostra 1', round(sigma_f_1_1[0]*1e-6, 2)],\n",
    "                                     ['Amostra 2', round(sigma_f_1_2[0]*1e-6, 2)],\n",
    "                                     ['Amostra 3', round(sigma_f_1_3[0]*1e-6, 2)],\n",
    "                                     ['Amostra 4', round(sigma_f_1_4[0]*1e-6, 2)],\n",
    "                                     ['Amostra 5', round(sigma_f_1_5[0]*1e-6, 2)]],\n",
    "                                     colLabels=['Amostras', 'Tensão de Falha, $\\sigma_f$'],\n",
    "                                     bbox=[-0.025, -1.2, 1.075, 0.875], cellLoc='center',\n",
    "                              fontsize=18)\n",
    "        ytable.auto_set_font_size(False)\n",
    "        ytable.set_fontsize(16)\n",
    "        ytable.scale(4, 2)\n",
    "        \n",
    "    plt.ylim(0, 40)\n",
    "    plt.xlim(0, 0.125e-3*100)\n",
    "    plt.ylabel('Tensão, $\\sigma$ [MPa]')\n",
    "    plt.xlabel('Deformação, $\\epsilon$ [%]')\n",
    "    plt.grid()\n",
    "    plt.legend()\n",
    "    plt.show()\n",
    "\n",
    "int_plot_1 = interactive(f_1,\n",
    "#                        epsilon_i=(0, 1e-4, 0.1e-5),\n",
    "                         epsilon_i_per=widgets.FloatSlider(value=0,\n",
    "                                                       min=0,\n",
    "                                                       max=1e-2,\n",
    "                                                       step=1e-4,\n",
    "                                                       description='$\\epsilon$',\n",
    "                                                       readout_format='.2e')\n",
    "                      )\n",
    "output = int_plot_1.children[-1]\n",
    "output.layout.height = '510px'\n",
    "# int_plot_1"
   ]
  },
  {
   "cell_type": "code",
   "execution_count": 303,
   "metadata": {
    "ExecuteTime": {
     "end_time": "2020-08-19T14:42:35.214917Z",
     "start_time": "2020-08-19T14:42:34.996482Z"
    },
    "cellView": "form",
    "colab": {},
    "colab_type": "code",
    "hide_input": true,
    "run_control": {
     "marked": false
    }
   },
   "outputs": [],
   "source": [
    "#@title \n",
    "m_2 = 15\n",
    "E = 400e9\n",
    "sigma_0 = 20e6\n",
    "sigma_f_2_1 = np.random.weibull(m_2, 1)*sigma_0\n",
    "sigma_f_2_2 = np.random.weibull(m_2, 1)*sigma_0\n",
    "sigma_f_2_3 = np.random.weibull(m_2, 1)*sigma_0\n",
    "sigma_f_2_4 = np.random.weibull(m_2, 1)*sigma_0\n",
    "sigma_f_2_5 = np.random.weibull(m_2, 1)*sigma_0\n",
    "\n",
    "def f_2(epsilon_i_per):\n",
    "    epsilon_i = epsilon_i_per / 100\n",
    "    epsilons_1, sigmas_1 = run_test(epsilon_i, E, sigma_f_2_1)\n",
    "    epsilons_2, sigmas_2 = run_test(epsilon_i, E, sigma_f_2_2)\n",
    "    epsilons_3, sigmas_3 = run_test(epsilon_i, E, sigma_f_2_3)\n",
    "    epsilons_4, sigmas_4 = run_test(epsilon_i, E, sigma_f_2_4)\n",
    "    epsilons_5, sigmas_5 = run_test(epsilon_i, E, sigma_f_2_5)\n",
    "\n",
    "    plt.plot(epsilons_1*100, sigmas_1*1e-6, c='Navy', label='Amostra 1')\n",
    "    plt.plot(epsilons_2*100, sigmas_2*1e-6, c='blue', label='Amostra 2')\n",
    "    plt.plot(epsilons_3*100, sigmas_3*1e-6, c='orange', label='Amostra 3')\n",
    "    plt.plot(epsilons_4*100, sigmas_4*1e-6, c='crimson', label='Amostra 4')\n",
    "    plt.plot(epsilons_5*100, sigmas_5*1e-6, c='olive', label='Amostra 5')\n",
    "    if epsilon_i * E >= sigma_f_2_1 and epsilon_i * E >= sigma_f_2_2 and epsilon_i * E >= sigma_f_2_3 and epsilon_i * E >= sigma_f_2_4 and epsilon_i * E >= sigma_f_2_5:\n",
    "        ytable = plt.table(cellText=[['Amostra 1', round(sigma_f_2_1[0]*1e-6, 2)],\n",
    "                                     ['Amostra 2', round(sigma_f_2_2[0]*1e-6, 2)],\n",
    "                                     ['Amostra 3', round(sigma_f_2_3[0]*1e-6, 2)],\n",
    "                                     ['Amostra 4', round(sigma_f_2_4[0]*1e-6, 2)],\n",
    "                                     ['Amostra 5', round(sigma_f_2_5[0]*1e-6, 2)]],\n",
    "                                     colLabels=['Amostras', 'Tensão de Falha, $\\sigma_f$'],\n",
    "                                     bbox=[-0.025, -1.2, 1.075, 0.875], cellLoc='center',\n",
    "                              fontsize=18)\n",
    "        ytable.auto_set_font_size(False)\n",
    "        ytable.set_fontsize(16)\n",
    "        ytable.scale(4, 2)\n",
    "        \n",
    "    plt.ylim(0, 40)\n",
    "    plt.xlim(0, 0.125e-3*100)\n",
    "    plt.ylabel('Tensão, $\\sigma$ [MPa]')\n",
    "    plt.xlabel('Deformação, $\\epsilon$ [%]')\n",
    "    plt.grid()\n",
    "    plt.legend()\n",
    "    plt.show()\n",
    "\n",
    "int_plot_2 = interactive(f_2,\n",
    "#                        epsilon_i=(0, 1e-4, 0.1e-5),\n",
    "                         epsilon_i_per=widgets.FloatSlider(value=0,\n",
    "                                                       min=0,\n",
    "                                                       max=1e-2,\n",
    "                                                       step=1e-4,\n",
    "                                                       description='$\\epsilon$',\n",
    "                                                       readout_format='.2e')\n",
    "                      )\n",
    "output = int_plot_2.children[-1]\n",
    "output.layout.height = '510px'\n",
    "# int_plot_2"
   ]
  },
  {
   "cell_type": "markdown",
   "metadata": {},
   "source": [
    "Lista de Exercícios :\n",
    "Para a prática dos conceitos aprendidos, dispõe-se da seguinte lista de exercícios:\n",
    "\n",
    "> 1. Realize os ensaios de tração para o Material 1 e o Material 2 (puxe o slider para a direita, ampliando a deformação - e consequentemente a tensão. **Importante: lembre-se que na realidade, ensaios de tração em materiais cerâmicos são inviáveis!**). Ao final do ensaio, será apresentado uma tabela com os valores de tensão de falha, $\\sigma_f^{tr}$, de cada amostra. Calcule o valor de módulo de Weibull, $m$, para cada um dos materiais.\n",
    "\n",
    "> 2. Quais parâmetros de processamento poderiam justificar a diferença entre o Material 1 e 2?\n",
    "\n",
    "> 3. Com base nas relações discutidas em sala de aula, converta os resultados do ensaio de tração, $\\sigma_f^{tr}$, para flexão três pontos, $\\sigma_f^{3pt}$ e calcule as razões  $\\frac{\\sigma_f^{3pt}}{\\sigma_f^{tr}}$. Em qual material a diferença é maior? Por que?"
   ]
  },
  {
   "cell_type": "code",
   "execution_count": 301,
   "metadata": {
    "ExecuteTime": {
     "end_time": "2020-08-19T12:36:38.460511Z",
     "start_time": "2020-08-19T12:36:37.992034Z"
    },
    "cellView": "form",
    "colab": {},
    "colab_type": "code",
    "hide_input": true
   },
   "outputs": [
    {
     "data": {
      "application/vnd.jupyter.widget-view+json": {
       "model_id": "c0822915edb145de952915b424b0804d",
       "version_major": 2,
       "version_minor": 0
      },
      "text/plain": [
       "VBox(children=(Tab(children=(VBox(children=(interactive(children=(FloatSlider(value=0.0, description='$\\\\epsil…"
      ]
     },
     "metadata": {},
     "output_type": "display_data"
    }
   ],
   "source": [
    "#@title \n",
    "tab1 = VBox(children=[int_plot_1])\n",
    "tab2 = VBox(children=[int_plot_2])\n",
    "\n",
    "tab = widgets.Tab(children=[tab1, tab2])\n",
    "tab.set_title(0, 'Material 1')\n",
    "tab.set_title(1, 'Material 2')\n",
    "VBox(children=[tab])\n"
   ]
  },
  {
   "cell_type": "code",
   "execution_count": null,
   "metadata": {},
   "outputs": [],
   "source": []
  },
  {
   "cell_type": "code",
   "execution_count": 424,
   "metadata": {
    "ExecuteTime": {
     "end_time": "2020-08-19T18:26:57.361107Z",
     "start_time": "2020-08-19T18:26:57.338323Z"
    },
    "collapsed": true,
    "hide_input": true
   },
   "outputs": [
    {
     "data": {
      "application/vnd.jupyter.widget-view+json": {
       "model_id": "5c16003a66f14f36895ceb09a7311723",
       "version_major": 2,
       "version_minor": 0
      },
      "text/plain": [
       "VBox(children=(Output(layout=Layout(height='350px'), outputs=({'output_type': 'display_data', 'data': {'text/p…"
      ]
     },
     "metadata": {},
     "output_type": "display_data"
    }
   ],
   "source": [
    "slider = int_plot.children[0]\n",
    "VBox([int_plot.children[-1], slider])"
   ]
  }
 ],
 "metadata": {
  "celltoolbar": "Edit Metadata",
  "hide_input": false,
  "kernelspec": {
   "display_name": "Python 3",
   "language": "python",
   "name": "python3"
  },
  "language_info": {
   "codemirror_mode": {
    "name": "ipython",
    "version": 3
   },
   "file_extension": ".py",
   "mimetype": "text/x-python",
   "name": "python",
   "nbconvert_exporter": "python",
   "pygments_lexer": "ipython3",
   "version": "3.7.7"
  },
  "latex_envs": {
   "LaTeX_envs_menu_present": true,
   "autoclose": false,
   "autocomplete": true,
   "bibliofile": "biblio.bib",
   "cite_by": "apalike",
   "current_citInitial": 1,
   "eqLabelWithNumbers": true,
   "eqNumInitial": 1,
   "hotkeys": {
    "equation": "Ctrl-E",
    "itemize": "Ctrl-I"
   },
   "labels_anchors": false,
   "latex_user_defs": false,
   "report_style_numbering": true,
   "user_envs_cfg": false
  },
  "toc": {
   "base_numbering": 1,
   "nav_menu": {},
   "number_sections": true,
   "sideBar": true,
   "skip_h1_title": false,
   "title_cell": "Table of Contents",
   "title_sidebar": "Contents",
   "toc_cell": false,
   "toc_position": {},
   "toc_section_display": true,
   "toc_window_display": false
  },
  "varInspector": {
   "cols": {
    "lenName": 16,
    "lenType": 16,
    "lenVar": 40
   },
   "kernels_config": {
    "python": {
     "delete_cmd_postfix": "",
     "delete_cmd_prefix": "del ",
     "library": "var_list.py",
     "varRefreshCmd": "print(var_dic_list())"
    },
    "r": {
     "delete_cmd_postfix": ") ",
     "delete_cmd_prefix": "rm(",
     "library": "var_list.r",
     "varRefreshCmd": "cat(var_dic_list()) "
    }
   },
   "types_to_exclude": [
    "module",
    "function",
    "builtin_function_or_method",
    "instance",
    "_Feature"
   ],
   "window_display": false
  }
 },
 "nbformat": 4,
 "nbformat_minor": 4
}
