{
 "cells": [
  {
   "cell_type": "code",
   "execution_count": 261,
   "metadata": {
    "ExecuteTime": {
     "end_time": "2020-09-02T01:34:14.124285Z",
     "start_time": "2020-09-02T01:34:14.106331Z"
    },
    "cellView": "form",
    "colab": {},
    "colab_type": "code",
    "hide_input": false
   },
   "outputs": [],
   "source": [
    "#@title \n",
    "import numpy as np\n",
    "import matplotlib as mpl\n",
    "import matplotlib.pyplot as plt\n",
    "from ipywidgets import interactive, widgets\n",
    "from matplotlib.ticker import FormatStrFormatter\n",
    "from scipy import stats\n",
    "\n",
    "%matplotlib inline\n",
    "\n",
    "def figcaption(text, label=\" \"):\n",
    "    figcaption.counter += 1\n",
    "    disp = \"<div class=caption><b> Fig.\" + str(figcaption.counter) + \" : </b> %s</div>\"\n",
    "    display(HTML(disp % text.replace('\\n', '<br>')))\n",
    "figcaption.counter = 0"
   ]
  },
  {
   "cell_type": "markdown",
   "metadata": {},
   "source": [
    "# Exercícios Simulando Ensaios Mecânicos"
   ]
  },
  {
   "cell_type": "markdown",
   "metadata": {},
   "source": [
    "Esta lista de exerícios tem como objetivo garantir que os objetivos principais da aula sobre estatística de Weibull foram alcançados e para fornecer desafios que levem a visualização e a prática dos conceitos passados. Para tanto, tomemos um ensaio "
   ]
  },
  {
   "cell_type": "code",
   "execution_count": 3,
   "metadata": {
    "ExecuteTime": {
     "end_time": "2020-09-01T00:11:15.354858Z",
     "start_time": "2020-09-01T00:11:15.334929Z"
    },
    "cellView": "form",
    "code_folding": [
     0
    ],
    "colab": {},
    "colab_type": "code",
    "hide_input": true,
    "run_control": {
     "marked": false
    }
   },
   "outputs": [],
   "source": [
    "#@title \n",
    "def run_test(epsilon_i, E, sigma_f):\n",
    "    if epsilon_i * E < sigma_f:\n",
    "        epsilons = np.linspace(0, epsilon_i, 1000)\n",
    "        sigmas = E*epsilons\n",
    "    else:\n",
    "        epsilons = np.linspace(0, epsilon_i, 1000)\n",
    "        sigmas = E*epsilons\n",
    "        sigmas[sigmas>sigma_f] = np.zeros(sigmas[sigmas>sigma_f].shape[0])\n",
    "    return epsilons, sigmas"
   ]
  },
  {
   "cell_type": "code",
   "execution_count": 470,
   "metadata": {
    "ExecuteTime": {
     "end_time": "2020-09-02T02:40:10.671208Z",
     "start_time": "2020-09-02T02:40:10.574059Z"
    },
    "cellView": "form",
    "code_folding": [],
    "colab": {},
    "colab_type": "code",
    "hide_input": false,
    "run_control": {
     "marked": false
    },
    "scrolled": false
   },
   "outputs": [
    {
     "data": {
      "application/vnd.jupyter.widget-view+json": {
       "model_id": "ee19d9d3f0d045a384aea7ca8726231a",
       "version_major": 2,
       "version_minor": 0
      },
      "text/plain": [
       "VBox(children=(Output(layout=Layout(height='300px')), FloatSlider(value=0.0, description='$\\\\epsilon$', layout…"
      ]
     },
     "metadata": {},
     "output_type": "display_data"
    }
   ],
   "source": [
    "#@title \n",
    "m=3\n",
    "E=400e9\n",
    "sigma_0=220e6\n",
    "sigma_f_1 = 220e6  # np.random.weibull(m, 1)*sigma_0\n",
    "\n",
    "def f(epsilon_i):\n",
    "    epsilons_1, sigmas_1 = run_test(epsilon_i, E, sigma_f_1)\n",
    "    epsilon_max = sigma_f_1/E\n",
    "    bar = np.array([0.09, 0.1, 0.11])\n",
    "    plt.text(0.0925, 215, 'Amostra')\n",
    "    plt.text(bar[0]*(1-epsilon_i*100)*0.9, 205, 'F')\n",
    "    plt.text(bar[2]*(1+epsilon_i*100)*1.06, 205, 'F')\n",
    "\n",
    "    plt.arrow(bar[0]*(1-epsilon_i*100), 200, -0.01, 0, head_width=10, head_length=0.005,\n",
    "              fc='k', ec='k', zorder=4)\n",
    "    plt.arrow(bar[2]*(1+epsilon_i*100), 200, 0.01, 0, head_width=10, head_length=0.005,\n",
    "              fc='k', ec='k', zorder=4)\n",
    "    if epsilon_i < epsilon_max:\n",
    "        plt.plot([bar[0]*(1-epsilon_i*100), bar[1],\n",
    "                  bar[2]*(1+epsilon_i*100)], [200, 200, 200], lw=10, c='k', label='Amostra')\n",
    "    if epsilon_i >= epsilon_max:\n",
    "        plt.plot([bar[0]*(1-epsilon_i*100),\n",
    "                  bar[1]*(1-(epsilon_i-epsilon_max)*100)-0.0021], [200, 200], lw=10, c='k')\n",
    "        plt.plot([bar[1]*(1+(epsilon_i-epsilon_max)*100)+0.0021,\n",
    "                  bar[2]*(1+epsilon_i*100)], [200, 200], lw=10, c='k', label='Amostra')\n",
    "    plt.plot(epsilons_1*100, sigmas_1*1e-6, c='Navy')\n",
    "    plt.ylim(0, 300)\n",
    "    plt.xlim(0, 0.14e-2*100)\n",
    "    plt.ylabel('Tensão, $\\sigma$ [MPa]')\n",
    "    plt.xlabel('Deformação, $\\epsilon$ [%]')\n",
    "    plt.grid(lw=0.25)\n",
    "    plt.show()\n",
    "\n",
    "int_plot = interactive(f,\n",
    "                         epsilon_i=widgets.FloatSlider(value=0,\n",
    "                                                       min=0,\n",
    "                                                       max=1e-3,\n",
    "                                                       step=1e-5,\n",
    "                                                       description='$\\epsilon$',\n",
    "                                                       readout_format='.2e',\n",
    "                                                       orientation='horizontal',\n",
    "                                                       layout=widgets.Layout(align_items='center')\n",
    "                      ))\n",
    "output = int_plot.children[-1]\n",
    "output.layout.height = '300px'\n",
    "caption = widgets.HTML(value='<p style=\"border-style: solid; border-width: 2px; border-radius: 5px; border-color:lightgrey\"><b> Widget Interativo 1 : </b> Ensaio de Tração de uma amostra qualquer. Arraste o slider para a direita para aumentar a deformação.</p>',\n",
    "                      layout=widgets.Layout(width='600px'))\n",
    "# caption.layout = {'width': '1000px'}\n",
    "box_layout = widgets.Layout(display='flex',\n",
    "                flex_flow='column',\n",
    "                align_items='center',\n",
    "                align_content='center',\n",
    "                justify_content='center',\n",
    "                width='100%')\n",
    "VBox([int_plot.children[1], int_plot.children[0], caption], layout=box_layout)\n"
   ]
  },
  {
   "cell_type": "code",
   "execution_count": 423,
   "metadata": {
    "ExecuteTime": {
     "end_time": "2020-09-02T02:20:18.260806Z",
     "start_time": "2020-09-02T02:20:18.030388Z"
    },
    "code_folding": []
   },
   "outputs": [
    {
     "data": {
      "application/vnd.jupyter.widget-view+json": {
       "model_id": "dec4ddd900084fb89a01aaa367a62fb3",
       "version_major": 2,
       "version_minor": 0
      },
      "text/plain": [
       "GridBox(children=(interactive(children=(FloatSlider(value=0.0, description='$\\\\epsilon$', max=0.001, readout_f…"
      ]
     },
     "metadata": {},
     "output_type": "display_data"
    }
   ],
   "source": [
    "widgets.GridBox(children=[int_plot, caption],\n",
    "        layout=widgets.Layout(display='flex',\n",
    "            flex_flow='column',\n",
    "            align_items='center',\n",
    "            width='100%',\n",
    "            grid_template_columns='1000px',\n",
    "            grid_template_rows='300px 100px',\n",
    "            grid_gap='5px')\n",
    "       )"
   ]
  },
  {
   "cell_type": "code",
   "execution_count": 424,
   "metadata": {
    "ExecuteTime": {
     "end_time": "2020-09-02T02:20:18.759499Z",
     "start_time": "2020-09-02T02:20:18.751460Z"
    }
   },
   "outputs": [],
   "source": [
    "caption.style = {'description_width': '0px'}\n",
    "h1 {\n",
    "  color: yellow;\n",
    "  text-shadow: -1px 0 black, 0 1px black, 1px 0 black, 0 -1px black;\n",
    "}"
   ]
  },
  {
   "cell_type": "code",
   "execution_count": 456,
   "metadata": {
    "ExecuteTime": {
     "end_time": "2020-09-02T02:35:08.432448Z",
     "start_time": "2020-09-02T02:35:08.405519Z"
    }
   },
   "outputs": [
    {
     "data": {
      "application/vnd.jupyter.widget-view+json": {
       "model_id": "0dbb1d356ae44cea8143f86b332bca22",
       "version_major": 2,
       "version_minor": 0
      },
      "text/plain": [
       "HTML(value='<p style=\"border-style: solid; border-width: 2px; border-radius: 5px; border-color:lightgrey\"><b> …"
      ]
     },
     "metadata": {},
     "output_type": "display_data"
    }
   ],
   "source": [
    "\n",
    "caption"
   ]
  },
  {
   "cell_type": "code",
   "execution_count": 172,
   "metadata": {
    "ExecuteTime": {
     "end_time": "2020-09-01T10:56:46.747604Z",
     "start_time": "2020-09-01T10:56:46.696744Z"
    },
    "cellView": "form",
    "colab": {},
    "colab_type": "code",
    "hide_input": true
   },
   "outputs": [],
   "source": [
    "#@title \n",
    "m_1 = 3\n",
    "E = 400e9\n",
    "sigma_0 = 20e6\n",
    "sigma_f_1_1 = np.random.weibull(m_1, 1)*sigma_0\n",
    "sigma_f_1_2 = np.random.weibull(m_1, 1)*sigma_0\n",
    "sigma_f_1_3 = np.random.weibull(m_1, 1)*sigma_0\n",
    "sigma_f_1_4 = np.random.weibull(m_1, 1)*sigma_0\n",
    "sigma_f_1_5 = np.random.weibull(m_1, 1)*sigma_0\n",
    "\n",
    "def f_1(epsilon_i_per):\n",
    "    epsilon_i = epsilon_i_per / 100\n",
    "    epsilons_1, sigmas_1 = run_test(epsilon_i, E, sigma_f_1_1)\n",
    "    epsilons_2, sigmas_2 = run_test(epsilon_i, E, sigma_f_1_2)\n",
    "    epsilons_3, sigmas_3 = run_test(epsilon_i, E, sigma_f_1_3)\n",
    "    epsilons_4, sigmas_4 = run_test(epsilon_i, E, sigma_f_1_4)\n",
    "    epsilons_5, sigmas_5 = run_test(epsilon_i, E, sigma_f_1_5)\n",
    "\n",
    "    plt.plot(epsilons_1*100, sigmas_1*1e-6, c='Navy', label='Amostra 1')\n",
    "    plt.plot(epsilons_2*100, sigmas_2*1e-6, c='blue', label='Amostra 2')\n",
    "    plt.plot(epsilons_3*100, sigmas_3*1e-6, c='orange', label='Amostra 3')\n",
    "    plt.plot(epsilons_4*100, sigmas_4*1e-6, c='crimson', label='Amostra 4')\n",
    "    plt.plot(epsilons_5*100, sigmas_5*1e-6, c='olive', label='Amostra 5')\n",
    "    if epsilon_i * E >= sigma_f_1_1 and epsilon_i * E >= sigma_f_1_2 and epsilon_i * E >= sigma_f_1_3 and epsilon_i * E >= sigma_f_1_4 and epsilon_i * E >= sigma_f_1_5:\n",
    "        ytable = plt.table(cellText=[['Amostra 1', round(sigma_f_1_1[0]*1e-6, 2)],\n",
    "                                     ['Amostra 2', round(sigma_f_1_2[0]*1e-6, 2)],\n",
    "                                     ['Amostra 3', round(sigma_f_1_3[0]*1e-6, 2)],\n",
    "                                     ['Amostra 4', round(sigma_f_1_4[0]*1e-6, 2)],\n",
    "                                     ['Amostra 5', round(sigma_f_1_5[0]*1e-6, 2)]],\n",
    "                                     colLabels=['Amostras', 'Tensão de Falha, $\\sigma_f$'],\n",
    "                                     bbox=[-0.025, -1.2, 1.075, 0.875], cellLoc='center',\n",
    "                              fontsize=18)\n",
    "        ytable.auto_set_font_size(False)\n",
    "        ytable.set_fontsize(16)\n",
    "        ytable.scale(4, 2)\n",
    "        \n",
    "    plt.ylim(0, 40)\n",
    "    plt.xlim(0, 0.125e-3*100)\n",
    "    plt.ylabel('Tensão, $\\sigma$ [MPa]')\n",
    "    plt.xlabel('Deformação, $\\epsilon$ [%]')\n",
    "    plt.grid()\n",
    "    plt.legend()\n",
    "    plt.show()\n",
    "\n",
    "int_plot_1 = interactive(f_1,\n",
    "#                        epsilon_i=(0, 1e-4, 0.1e-5),\n",
    "                         epsilon_i_per=widgets.FloatSlider(value=0,\n",
    "                                                       min=0,\n",
    "                                                       max=1e-2,\n",
    "                                                       step=1e-4,\n",
    "                                                       description='$\\epsilon$',\n",
    "                                                       readout_format='.2e')\n",
    "                      )\n",
    "output = int_plot_1.children[-1]\n",
    "output.layout.height = '510px'\n",
    "# int_plot_1"
   ]
  },
  {
   "cell_type": "code",
   "execution_count": 173,
   "metadata": {
    "ExecuteTime": {
     "end_time": "2020-09-01T10:56:47.279184Z",
     "start_time": "2020-09-01T10:56:47.225327Z"
    },
    "cellView": "form",
    "colab": {},
    "colab_type": "code",
    "hide_input": true,
    "run_control": {
     "marked": false
    }
   },
   "outputs": [],
   "source": [
    "#@title \n",
    "m_2 = 15\n",
    "E = 400e9\n",
    "sigma_0 = 20e6\n",
    "sigma_f_2_1 = np.random.weibull(m_2, 1)*sigma_0\n",
    "sigma_f_2_2 = np.random.weibull(m_2, 1)*sigma_0\n",
    "sigma_f_2_3 = np.random.weibull(m_2, 1)*sigma_0\n",
    "sigma_f_2_4 = np.random.weibull(m_2, 1)*sigma_0\n",
    "sigma_f_2_5 = np.random.weibull(m_2, 1)*sigma_0\n",
    "\n",
    "def f_2(epsilon_i_per):\n",
    "    epsilon_i = epsilon_i_per / 100\n",
    "    epsilons_1, sigmas_1 = run_test(epsilon_i, E, sigma_f_2_1)\n",
    "    epsilons_2, sigmas_2 = run_test(epsilon_i, E, sigma_f_2_2)\n",
    "    epsilons_3, sigmas_3 = run_test(epsilon_i, E, sigma_f_2_3)\n",
    "    epsilons_4, sigmas_4 = run_test(epsilon_i, E, sigma_f_2_4)\n",
    "    epsilons_5, sigmas_5 = run_test(epsilon_i, E, sigma_f_2_5)\n",
    "\n",
    "    plt.plot(epsilons_1*100, sigmas_1*1e-6, c='Navy', label='Amostra 1')\n",
    "    plt.plot(epsilons_2*100, sigmas_2*1e-6, c='blue', label='Amostra 2')\n",
    "    plt.plot(epsilons_3*100, sigmas_3*1e-6, c='orange', label='Amostra 3')\n",
    "    plt.plot(epsilons_4*100, sigmas_4*1e-6, c='crimson', label='Amostra 4')\n",
    "    plt.plot(epsilons_5*100, sigmas_5*1e-6, c='olive', label='Amostra 5')\n",
    "    if epsilon_i * E >= sigma_f_2_1 and epsilon_i * E >= sigma_f_2_2 and epsilon_i * E >= sigma_f_2_3 and epsilon_i * E >= sigma_f_2_4 and epsilon_i * E >= sigma_f_2_5:\n",
    "        ytable = plt.table(cellText=[['Amostra 1', round(sigma_f_2_1[0]*1e-6, 2)],\n",
    "                                     ['Amostra 2', round(sigma_f_2_2[0]*1e-6, 2)],\n",
    "                                     ['Amostra 3', round(sigma_f_2_3[0]*1e-6, 2)],\n",
    "                                     ['Amostra 4', round(sigma_f_2_4[0]*1e-6, 2)],\n",
    "                                     ['Amostra 5', round(sigma_f_2_5[0]*1e-6, 2)]],\n",
    "                                     colLabels=['Amostras', 'Tensão de Falha, $\\sigma_f$'],\n",
    "                                     bbox=[-0.025, -1.2, 1.075, 0.875], cellLoc='center',\n",
    "                              fontsize=18)\n",
    "        ytable.auto_set_font_size(False)\n",
    "        ytable.set_fontsize(16)\n",
    "        ytable.scale(4, 2)\n",
    "        \n",
    "    plt.ylim(0, 40)\n",
    "    plt.xlim(0, 0.125e-3*100)\n",
    "    plt.ylabel('Tensão, $\\sigma$ [MPa]')\n",
    "    plt.xlabel('Deformação, $\\epsilon$ [%]')\n",
    "    plt.grid()\n",
    "    plt.legend()\n",
    "    plt.show()\n",
    "\n",
    "int_plot_2 = interactive(f_2,\n",
    "#                        epsilon_i=(0, 1e-4, 0.1e-5),\n",
    "                         epsilon_i_per=widgets.FloatSlider(value=0,\n",
    "                                                       min=0,\n",
    "                                                       max=1e-2,\n",
    "                                                       step=1e-4,\n",
    "                                                       description='$\\epsilon$',\n",
    "                                                       readout_format='.2e')\n",
    "                      )\n",
    "output = int_plot_2.children[-1]\n",
    "output.layout.height = '510px'\n",
    "# int_plot_2"
   ]
  },
  {
   "cell_type": "markdown",
   "metadata": {},
   "source": [
    "Lista de Exercícios :\n",
    "Para a prática dos conceitos aprendidos, dispõe-se da seguinte lista de exercícios:\n",
    "\n",
    "> 1. Realize os ensaios de tração para o Material 1 e o Material 2 (puxe o slider para a direita, ampliando a deformação - e consequentemente a tensão. **Importante: lembre-se que na realidade, ensaios de tração em materiais cerâmicos são inviáveis!**). Ao final do ensaio, será apresentado uma tabela com os valores de tensão de falha, $\\sigma_f^{tr}$, de cada amostra. Calcule o valor de módulo de Weibull, $m$, para cada um dos materiais.\n",
    "\n",
    "> 2. Quais parâmetros de processamento poderiam justificar a diferença entre o Material 1 e 2?\n",
    "\n",
    "> 3. Com base nas relações discutidas em sala de aula, converta os resultados do ensaio de tração, $\\sigma_f^{tr}$, para flexão três pontos, $\\sigma_f^{3pt}$ e calcule as razões  $\\frac{\\sigma_f^{3pt}}{\\sigma_f^{tr}}$. Em qual material a diferença é maior? Por que?"
   ]
  },
  {
   "cell_type": "code",
   "execution_count": 175,
   "metadata": {
    "ExecuteTime": {
     "end_time": "2020-09-01T10:57:42.000907Z",
     "start_time": "2020-09-01T10:57:41.994888Z"
    }
   },
   "outputs": [],
   "source": [
    "from ipywidgets import VBox"
   ]
  },
  {
   "cell_type": "code",
   "execution_count": 176,
   "metadata": {
    "ExecuteTime": {
     "end_time": "2020-09-01T10:57:44.310267Z",
     "start_time": "2020-09-01T10:57:43.779648Z"
    },
    "cellView": "form",
    "colab": {},
    "colab_type": "code",
    "hide_input": true,
    "scrolled": false
   },
   "outputs": [
    {
     "data": {
      "application/vnd.jupyter.widget-view+json": {
       "model_id": "ff1fe488904349548ba58f0f1160414c",
       "version_major": 2,
       "version_minor": 0
      },
      "text/plain": [
       "VBox(children=(Tab(children=(VBox(children=(interactive(children=(FloatSlider(value=0.0, description='$\\\\epsil…"
      ]
     },
     "metadata": {},
     "output_type": "display_data"
    }
   ],
   "source": [
    "#@title \n",
    "tab1 = VBox(children=[int_plot_1])\n",
    "tab2 = VBox(children=[int_plot_2])\n",
    "\n",
    "tab = widgets.Tab(children=[tab1, tab2])\n",
    "tab.set_title(0, 'Material 1')\n",
    "tab.set_title(1, 'Material 2')\n",
    "VBox(children=[tab])\n"
   ]
  },
  {
   "cell_type": "code",
   "execution_count": 179,
   "metadata": {
    "ExecuteTime": {
     "end_time": "2020-09-01T11:02:05.412647Z",
     "start_time": "2020-09-01T11:02:05.401676Z"
    }
   },
   "outputs": [
    {
     "data": {
      "text/plain": [
       "(18.342000000000002, 5.881739198570437)"
      ]
     },
     "execution_count": 179,
     "metadata": {},
     "output_type": "execute_result"
    }
   ],
   "source": [
    "stats.norm.fit([28.55, 16.4, 11.38, 20.49, 14.89])"
   ]
  },
  {
   "cell_type": "code",
   "execution_count": 180,
   "metadata": {
    "ExecuteTime": {
     "end_time": "2020-09-01T11:02:21.480671Z",
     "start_time": "2020-09-01T11:02:21.473725Z"
    }
   },
   "outputs": [
    {
     "data": {
      "text/plain": [
       "(20.092000000000002, 0.9551418742783707)"
      ]
     },
     "execution_count": 180,
     "metadata": {},
     "output_type": "execute_result"
    }
   ],
   "source": [
    "stats.norm.fit([18.89, 20.22, 20.7, 21.47, 19.18])"
   ]
  },
  {
   "cell_type": "code",
   "execution_count": 177,
   "metadata": {
    "ExecuteTime": {
     "end_time": "2020-09-01T10:59:46.527607Z",
     "start_time": "2020-09-01T10:59:46.450812Z"
    }
   },
   "outputs": [
    {
     "data": {
      "text/plain": [
       "(0.3326872049615516, 11.379999999999999, 1.1821375193669037)"
      ]
     },
     "execution_count": 177,
     "metadata": {},
     "output_type": "execute_result"
    }
   ],
   "source": [
    "stats.weibull_min.fit([28.55, 16.4, 11.38, 20.49, 14.89])"
   ]
  },
  {
   "cell_type": "code",
   "execution_count": 178,
   "metadata": {
    "ExecuteTime": {
     "end_time": "2020-09-01T11:00:34.708694Z",
     "start_time": "2020-09-01T11:00:34.624881Z"
    }
   },
   "outputs": [
    {
     "data": {
      "text/plain": [
       "(0.26891260261333694, 18.889999999999997, 0.46263828399436363)"
      ]
     },
     "execution_count": 178,
     "metadata": {},
     "output_type": "execute_result"
    }
   ],
   "source": [
    "stats.weibull_min.fit([18.89, 20.22, 20.7, 21.47, 19.18])"
   ]
  },
  {
   "cell_type": "code",
   "execution_count": 186,
   "metadata": {
    "ExecuteTime": {
     "end_time": "2020-09-01T11:04:20.807492Z",
     "start_time": "2020-09-01T11:04:20.665866Z"
    }
   },
   "outputs": [
    {
     "data": {
      "text/plain": [
       "(0.7616942397762514, 15.659200282033977, 1.3087303692754282)"
      ]
     },
     "execution_count": 186,
     "metadata": {},
     "output_type": "execute_result"
    }
   ],
   "source": [
    "\n",
    "stats.weibull_min.fit(np.random.weibull(m_2, 10)*sigma_0*1e-6)"
   ]
  },
  {
   "cell_type": "code",
   "execution_count": 257,
   "metadata": {
    "ExecuteTime": {
     "end_time": "2020-09-01T11:05:37.650623Z",
     "start_time": "2020-09-01T11:05:37.484068Z"
    }
   },
   "outputs": [
    {
     "data": {
      "text/plain": [
       "(16.596577927312545, -1.9480664565145147, 21.973446761151642)"
      ]
     },
     "execution_count": 257,
     "metadata": {},
     "output_type": "execute_result"
    }
   ],
   "source": [
    "stats.weibull_min.fit(np.random.weibull(m_2, 4500)*sigma_0*1e-6)"
   ]
  },
  {
   "cell_type": "markdown",
   "metadata": {
    "ExecuteTime": {
     "end_time": "2020-08-21T19:33:27.833123Z",
     "start_time": "2020-08-21T19:33:27.734382Z"
    }
   },
   "source": [
    "\\begin{equation}\n",
    "F(k) = \\int_{-\\infty}^{\\infty} f(x) e^{2\\pi i k} dx \\tag{1}\n",
    "\\end{equation}\n",
    "\n",
    "---\n",
    "\n"
   ]
  },
  {
   "cell_type": "code",
   "execution_count": 424,
   "metadata": {
    "ExecuteTime": {
     "end_time": "2020-08-19T18:26:57.361107Z",
     "start_time": "2020-08-19T18:26:57.338323Z"
    },
    "collapsed": true,
    "hide_input": true
   },
   "outputs": [
    {
     "data": {
      "application/vnd.jupyter.widget-view+json": {
       "model_id": "5c16003a66f14f36895ceb09a7311723",
       "version_major": 2,
       "version_minor": 0
      },
      "text/plain": [
       "VBox(children=(Output(layout=Layout(height='350px'), outputs=({'output_type': 'display_data', 'data': {'text/p…"
      ]
     },
     "metadata": {},
     "output_type": "display_data"
    }
   ],
   "source": [
    "slider = int_plot.children[0]\n",
    "VBox([int_plot.children[-1], slider])"
   ]
  }
 ],
 "metadata": {
  "hide_input": true,
  "kernelspec": {
   "display_name": "Python 3",
   "language": "python",
   "name": "python3"
  },
  "language_info": {
   "codemirror_mode": {
    "name": "ipython",
    "version": 3
   },
   "file_extension": ".py",
   "mimetype": "text/x-python",
   "name": "python",
   "nbconvert_exporter": "python",
   "pygments_lexer": "ipython3",
   "version": "3.7.7"
  },
  "latex_envs": {
   "LaTeX_envs_menu_present": true,
   "autoclose": false,
   "autocomplete": true,
   "bibliofile": "biblio.bib",
   "cite_by": "apalike",
   "current_citInitial": 1,
   "eqLabelWithNumbers": true,
   "eqNumInitial": 1,
   "hotkeys": {
    "equation": "Ctrl-E",
    "itemize": "Ctrl-I"
   },
   "labels_anchors": false,
   "latex_user_defs": false,
   "report_style_numbering": true,
   "user_envs_cfg": false
  },
  "toc": {
   "base_numbering": 1,
   "nav_menu": {},
   "number_sections": true,
   "sideBar": true,
   "skip_h1_title": false,
   "title_cell": "Table of Contents",
   "title_sidebar": "Contents",
   "toc_cell": false,
   "toc_position": {},
   "toc_section_display": true,
   "toc_window_display": false
  },
  "varInspector": {
   "cols": {
    "lenName": 16,
    "lenType": 16,
    "lenVar": 40
   },
   "kernels_config": {
    "python": {
     "delete_cmd_postfix": "",
     "delete_cmd_prefix": "del ",
     "library": "var_list.py",
     "varRefreshCmd": "print(var_dic_list())"
    },
    "r": {
     "delete_cmd_postfix": ") ",
     "delete_cmd_prefix": "rm(",
     "library": "var_list.r",
     "varRefreshCmd": "cat(var_dic_list()) "
    }
   },
   "types_to_exclude": [
    "module",
    "function",
    "builtin_function_or_method",
    "instance",
    "_Feature"
   ],
   "window_display": false
  }
 },
 "nbformat": 4,
 "nbformat_minor": 4
}
